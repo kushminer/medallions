{
 "cells": [
  {
   "cell_type": "markdown",
   "id": "13bdffd7",
   "metadata": {},
   "source": [
    "## project: medallions\n",
    "- goal: medallion value based on net revenue\n",
    "- analyze the following for yellow cabs:\n",
    "    - number of rides per day\n",
    "    - average spent per ride\n",
    "    - total ride revenue collected per day \n",
    "    - average number of rides per medallion\n"
   ]
  },
  {
   "cell_type": "markdown",
   "id": "30722da7",
   "metadata": {},
   "source": [
    "Todo:\n",
    "- Trips Per Day / Unique Drivers\n",
    "- Trips Per Day / Unique Vehicles\n",
    "- Trips Per Day / Vehicles Per Day\n",
    "- Avg Days Vehicles on Road * Average Daily Rev\n",
    "- Avg Hours Per Day Per Driver - (Avg Minutes Per Trip/60) = non trip time\n",
    "- ### Predict Annualized Revenune\n"
   ]
  },
  {
   "cell_type": "markdown",
   "id": "75b66fd0",
   "metadata": {},
   "source": [
    "## imports"
   ]
  },
  {
   "cell_type": "code",
   "execution_count": 3,
   "id": "ac11476f",
   "metadata": {},
   "outputs": [],
   "source": [
    "from IPython.display import display, HTML\n",
    "import pandas as pd\n",
    "import seaborn as sns\n",
    "import matplotlib.pyplot as plt\n"
   ]
  },
  {
   "cell_type": "code",
   "execution_count": 4,
   "id": "f974e70d",
   "metadata": {},
   "outputs": [
    {
     "data": {
      "text/html": [
       "<style>div.output_scroll { height: 10em; }</style>"
      ],
      "text/plain": [
       "<IPython.core.display.HTML object>"
      ]
     },
     "metadata": {},
     "output_type": "display_data"
    }
   ],
   "source": [
    "display(HTML(\"<style>div.output_scroll { height: 10em; }</style>\"))\n",
    "pd.set_option('display.max_columns', None)\n",
    "pd.set_option('display.max_rows', None)\n"
   ]
  },
  {
   "cell_type": "markdown",
   "id": "396ddb8a",
   "metadata": {},
   "source": [
    "## raw data\n"
   ]
  },
  {
   "cell_type": "code",
   "execution_count": 5,
   "id": "e89f1588",
   "metadata": {},
   "outputs": [],
   "source": [
    "data_reports_monthly = pd.read_csv('data_reports_monthly.csv')\n",
    "\n",
    "data_reports_monthly.columns = data_reports_monthly.columns.str.strip()\n",
    "\n"
   ]
  },
  {
   "cell_type": "code",
   "execution_count": 6,
   "id": "18d98c8a",
   "metadata": {},
   "outputs": [
    {
     "data": {
      "text/plain": [
       "Yellow               159\n",
       "Green                116\n",
       "FHV - Livery          99\n",
       "FHV - Black Car       99\n",
       "FHV - High Volume     99\n",
       "FHV - Lux Limo        99\n",
       "Name: License Class, dtype: int64"
      ]
     },
     "execution_count": 6,
     "metadata": {},
     "output_type": "execute_result"
    }
   ],
   "source": [
    "data_reports_monthly['License Class'].value_counts()"
   ]
  },
  {
   "cell_type": "markdown",
   "id": "495758c9",
   "metadata": {},
   "source": [
    "## pre-processing"
   ]
  },
  {
   "cell_type": "code",
   "execution_count": 7,
   "id": "ccebec8c",
   "metadata": {},
   "outputs": [],
   "source": [
    "# Filter for only Yellow Licence Class\n",
    "\n",
    "data_reports_monthly = data_reports_monthly[data_reports_monthly['License Class'] == 'Yellow']\n",
    "\n",
    "# Make month/year index\n",
    "\n",
    "data_reports_monthly['Month/Year'] = pd.to_datetime(data_reports_monthly['Month/Year'])\n",
    "data_reports_monthly.set_index('Month/Year', inplace=True)\n",
    "\n",
    "# Replace commas\n",
    "\n",
    "data_reports_monthly = data_reports_monthly.replace({',': ''}, regex=True)\n",
    "\n",
    "# Convert all columns to numeric\n",
    "data_reports_monthly = data_reports_monthly.apply(pd.to_numeric, errors='coerce')\n"
   ]
  },
  {
   "cell_type": "markdown",
   "id": "933c85b0",
   "metadata": {},
   "source": [
    "## inspection"
   ]
  },
  {
   "cell_type": "code",
   "execution_count": 8,
   "id": "2987a6c7",
   "metadata": {
    "scrolled": true
   },
   "outputs": [
    {
     "data": {
      "text/plain": [
       "count    159.000000\n",
       "mean      12.981887\n",
       "std        2.172784\n",
       "min        6.180000\n",
       "25%       11.250000\n",
       "50%       13.230000\n",
       "75%       13.975000\n",
       "max       20.900000\n",
       "Name: Avg Trip Value, dtype: float64"
      ]
     },
     "execution_count": 8,
     "metadata": {},
     "output_type": "execute_result"
    }
   ],
   "source": [
    "data_reports_monthly['Avg Trip Value'].describe()"
   ]
  },
  {
   "cell_type": "code",
   "execution_count": 9,
   "id": "84bf58d3",
   "metadata": {},
   "outputs": [
    {
     "data": {
      "text/plain": [
       "['License Class',\n",
       " 'Trips Per Day',\n",
       " 'Farebox Per Day',\n",
       " 'Unique Drivers',\n",
       " 'Unique Vehicles',\n",
       " 'Vehicles Per Day',\n",
       " 'Avg Days Vehicles on Road',\n",
       " 'Avg Hours Per Day Per Vehicle',\n",
       " 'Avg Days Drivers on Road',\n",
       " 'Avg Hours Per Day Per Driver',\n",
       " 'Avg Minutes Per Trip',\n",
       " 'Percent of Trips Paid with Credit Card',\n",
       " 'Trips Per Day Shared',\n",
       " 'Avg Trips per Vehicle',\n",
       " 'Average Daily Rev',\n",
       " 'Avg Trip Value',\n",
       " 'Avg Trip Val Based on Fairbox/Total Trips',\n",
       " 'Annualized Rev']"
      ]
     },
     "execution_count": 9,
     "metadata": {},
     "output_type": "execute_result"
    }
   ],
   "source": [
    "data_reports_monthly.columns.tolist()"
   ]
  },
  {
   "cell_type": "markdown",
   "id": "fc300383",
   "metadata": {},
   "source": [
    "## plotting"
   ]
  },
  {
   "cell_type": "code",
   "execution_count": 17,
   "id": "60870124",
   "metadata": {
    "scrolled": false
   },
   "outputs": [
    {
     "data": {
      "image/png": "[encoded data removed]",
      "text/plain": [
       "<Figure size 1000x600 with 1 Axes>"
      ]
     },
     "metadata": {},
     "output_type": "display_data"
    }
   ],
   "source": [
    "# Set the style of seaborn plot\n",
    "sns.set(style=\"whitegrid\")\n",
    "\n",
    "# Create a figure and a set of subplots\n",
    "fig, ax = plt.subplots(figsize=(10,6))\n",
    "\n",
    "# Create line plot\n",
    "sns.lineplot(x=data_reports_monthly.index, y=data_reports_monthly['Avg Trip Value'], color='blue')\n",
    "\n",
    "# Set title and labels for the plot\n",
    "ax.set_title('Avg Days Medallion on Road', fontsize=16)\n",
    "ax.set_xlabel('Date', fontsize=14)\n",
    "ax.set_ylabel('Avg Days Medallion on Road', fontsize=14)\n",
    "\n",
    "# Remove the top and right spines from plot\n",
    "sns.despine()\n",
    "\n",
    "# Show plot\n",
    "plt.show()\n"
   ]
  },
  {
   "cell_type": "code",
   "execution_count": 15,
   "id": "1cd3c24f",
   "metadata": {},
   "outputs": [
    {
     "data": {
      "text/html": [
       "<div>\n",
       "<style scoped>\n",
       "    .dataframe tbody tr th:only-of-type {\n",
       "        vertical-align: middle;\n",
       "    }\n",
       "\n",
       "    .dataframe tbody tr th {\n",
       "        vertical-align: top;\n",
       "    }\n",
       "\n",
       "    .dataframe thead th {\n",
       "        text-align: right;\n",
       "    }\n",
       "</style>\n",
       "<table border=\"1\" class=\"dataframe\">\n",
       "  <thead>\n",
       "    <tr style=\"text-align: right;\">\n",
       "      <th></th>\n",
       "      <th>License Class</th>\n",
       "      <th>Trips Per Day</th>\n",
       "      <th>Farebox Per Day</th>\n",
       "      <th>Unique Drivers</th>\n",
       "      <th>Unique Vehicles</th>\n",
       "      <th>Vehicles Per Day</th>\n",
       "      <th>Avg Days Vehicles on Road</th>\n",
       "      <th>Avg Hours Per Day Per Vehicle</th>\n",
       "      <th>Avg Days Drivers on Road</th>\n",
       "      <th>Avg Hours Per Day Per Driver</th>\n",
       "      <th>Avg Minutes Per Trip</th>\n",
       "      <th>Percent of Trips Paid with Credit Card</th>\n",
       "      <th>Trips Per Day Shared</th>\n",
       "      <th>Avg Trips per Vehicle</th>\n",
       "      <th>Average Daily Rev</th>\n",
       "      <th>Avg Trip Value</th>\n",
       "      <th>Avg Trip Val Based on Fairbox/Total Trips</th>\n",
       "      <th>Annualized Rev</th>\n",
       "    </tr>\n",
       "    <tr>\n",
       "      <th>Month/Year</th>\n",
       "      <th></th>\n",
       "      <th></th>\n",
       "      <th></th>\n",
       "      <th></th>\n",
       "      <th></th>\n",
       "      <th></th>\n",
       "      <th></th>\n",
       "      <th></th>\n",
       "      <th></th>\n",
       "      <th></th>\n",
       "      <th></th>\n",
       "      <th></th>\n",
       "      <th></th>\n",
       "      <th></th>\n",
       "      <th></th>\n",
       "      <th></th>\n",
       "      <th></th>\n",
       "      <th></th>\n",
       "    </tr>\n",
       "  </thead>\n",
       "  <tbody>\n",
       "    <tr>\n",
       "      <th>2023-03-01</th>\n",
       "      <td>NaN</td>\n",
       "      <td>109231</td>\n",
       "      <td>2658809</td>\n",
       "      <td>11235</td>\n",
       "      <td>8119</td>\n",
       "      <td>6970</td>\n",
       "      <td>26.6</td>\n",
       "      <td>8.5</td>\n",
       "      <td>22.5</td>\n",
       "      <td>7.3</td>\n",
       "      <td>15.5</td>\n",
       "      <td>1</td>\n",
       "      <td>NaN</td>\n",
       "      <td>15.671593</td>\n",
       "      <td>327.48</td>\n",
       "      <td>20.90</td>\n",
       "      <td>24.34</td>\n",
       "      <td>119530.15</td>\n",
       "    </tr>\n",
       "    <tr>\n",
       "      <th>2023-02-01</th>\n",
       "      <td>NaN</td>\n",
       "      <td>103632</td>\n",
       "      <td>2440137</td>\n",
       "      <td>10762</td>\n",
       "      <td>7886</td>\n",
       "      <td>6679</td>\n",
       "      <td>23.7</td>\n",
       "      <td>8.4</td>\n",
       "      <td>20.2</td>\n",
       "      <td>7.2</td>\n",
       "      <td>14.7</td>\n",
       "      <td>1</td>\n",
       "      <td>NaN</td>\n",
       "      <td>15.516095</td>\n",
       "      <td>309.43</td>\n",
       "      <td>19.94</td>\n",
       "      <td>23.55</td>\n",
       "      <td>112940.65</td>\n",
       "    </tr>\n",
       "    <tr>\n",
       "      <th>2023-01-01</th>\n",
       "      <td>NaN</td>\n",
       "      <td>98569</td>\n",
       "      <td>2335375</td>\n",
       "      <td>10594</td>\n",
       "      <td>7737</td>\n",
       "      <td>6354</td>\n",
       "      <td>25.5</td>\n",
       "      <td>8.2</td>\n",
       "      <td>21.6</td>\n",
       "      <td>7.1</td>\n",
       "      <td>14.4</td>\n",
       "      <td>1</td>\n",
       "      <td>NaN</td>\n",
       "      <td>15.512905</td>\n",
       "      <td>301.85</td>\n",
       "      <td>19.46</td>\n",
       "      <td>23.69</td>\n",
       "      <td>110173.44</td>\n",
       "    </tr>\n",
       "    <tr>\n",
       "      <th>2022-12-01</th>\n",
       "      <td>NaN</td>\n",
       "      <td>109290</td>\n",
       "      <td>2358924</td>\n",
       "      <td>10749</td>\n",
       "      <td>7791</td>\n",
       "      <td>6529</td>\n",
       "      <td>26.0</td>\n",
       "      <td>8.7</td>\n",
       "      <td>22.0</td>\n",
       "      <td>7.5</td>\n",
       "      <td>16.9</td>\n",
       "      <td>1</td>\n",
       "      <td>NaN</td>\n",
       "      <td>16.739164</td>\n",
       "      <td>302.78</td>\n",
       "      <td>18.09</td>\n",
       "      <td>21.58</td>\n",
       "      <td>110513.06</td>\n",
       "    </tr>\n",
       "    <tr>\n",
       "      <th>2022-11-01</th>\n",
       "      <td>NaN</td>\n",
       "      <td>108146</td>\n",
       "      <td>2088897</td>\n",
       "      <td>10804</td>\n",
       "      <td>7685</td>\n",
       "      <td>6100</td>\n",
       "      <td>23.8</td>\n",
       "      <td>9.1</td>\n",
       "      <td>19.9</td>\n",
       "      <td>7.7</td>\n",
       "      <td>16.5</td>\n",
       "      <td>1</td>\n",
       "      <td>NaN</td>\n",
       "      <td>17.728852</td>\n",
       "      <td>271.81</td>\n",
       "      <td>15.33</td>\n",
       "      <td>19.32</td>\n",
       "      <td>99212.41</td>\n",
       "    </tr>\n",
       "  </tbody>\n",
       "</table>\n",
       "</div>"
      ],
      "text/plain": [
       "            License Class  Trips Per Day  Farebox Per Day  Unique Drivers  \\\n",
       "Month/Year                                                                  \n",
       "2023-03-01            NaN         109231          2658809           11235   \n",
       "2023-02-01            NaN         103632          2440137           10762   \n",
       "2023-01-01            NaN          98569          2335375           10594   \n",
       "2022-12-01            NaN         109290          2358924           10749   \n",
       "2022-11-01            NaN         108146          2088897           10804   \n",
       "\n",
       "            Unique Vehicles  Vehicles Per Day  Avg Days Vehicles on Road  \\\n",
       "Month/Year                                                                 \n",
       "2023-03-01             8119              6970                       26.6   \n",
       "2023-02-01             7886              6679                       23.7   \n",
       "2023-01-01             7737              6354                       25.5   \n",
       "2022-12-01             7791              6529                       26.0   \n",
       "2022-11-01             7685              6100                       23.8   \n",
       "\n",
       "            Avg Hours Per Day Per Vehicle  Avg Days Drivers on Road  \\\n",
       "Month/Year                                                            \n",
       "2023-03-01                            8.5                      22.5   \n",
       "2023-02-01                            8.4                      20.2   \n",
       "2023-01-01                            8.2                      21.6   \n",
       "2022-12-01                            8.7                      22.0   \n",
       "2022-11-01                            9.1                      19.9   \n",
       "\n",
       "            Avg Hours Per Day Per Driver  Avg Minutes Per Trip  \\\n",
       "Month/Year                                                       \n",
       "2023-03-01                           7.3                  15.5   \n",
       "2023-02-01                           7.2                  14.7   \n",
       "2023-01-01                           7.1                  14.4   \n",
       "2022-12-01                           7.5                  16.9   \n",
       "2022-11-01                           7.7                  16.5   \n",
       "\n",
       "            Percent of Trips Paid with Credit Card  Trips Per Day Shared  \\\n",
       "Month/Year                                                                 \n",
       "2023-03-01                                       1                   NaN   \n",
       "2023-02-01                                       1                   NaN   \n",
       "2023-01-01                                       1                   NaN   \n",
       "2022-12-01                                       1                   NaN   \n",
       "2022-11-01                                       1                   NaN   \n",
       "\n",
       "            Avg Trips per Vehicle  Average Daily Rev  Avg Trip Value  \\\n",
       "Month/Year                                                             \n",
       "2023-03-01              15.671593             327.48           20.90   \n",
       "2023-02-01              15.516095             309.43           19.94   \n",
       "2023-01-01              15.512905             301.85           19.46   \n",
       "2022-12-01              16.739164             302.78           18.09   \n",
       "2022-11-01              17.728852             271.81           15.33   \n",
       "\n",
       "            Avg Trip Val Based on Fairbox/Total Trips  Annualized Rev  \n",
       "Month/Year                                                             \n",
       "2023-03-01                                      24.34       119530.15  \n",
       "2023-02-01                                      23.55       112940.65  \n",
       "2023-01-01                                      23.69       110173.44  \n",
       "2022-12-01                                      21.58       110513.06  \n",
       "2022-11-01                                      19.32        99212.41  "
      ]
     },
     "execution_count": 15,
     "metadata": {},
     "output_type": "execute_result"
    }
   ],
   "source": [
    "data_reports_monthly.head()"
   ]
  }
 ],
 "metadata": {
  "kernelspec": {
   "display_name": "Python 3 (ipykernel)",
   "language": "python",
   "name": "python3"
  },
  "language_info": {
   "codemirror_mode": {
    "name": "ipython",
    "version": 3
   },
   "file_extension": ".py",
   "mimetype": "text/x-python",
   "name": "python",
   "nbconvert_exporter": "python",
   "pygments_lexer": "ipython3",
   "version": "3.9.16"
  }
 },
 "nbformat": 4,
 "nbformat_minor": 5
}
